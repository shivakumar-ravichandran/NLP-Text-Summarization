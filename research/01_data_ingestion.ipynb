{
 "cells": [
  {
   "cell_type": "code",
   "execution_count": 1,
   "metadata": {},
   "outputs": [
    {
     "data": {
      "text/plain": [
       "'c:\\\\ML\\\\NLP-Text-Summarization'"
      ]
     },
     "execution_count": 1,
     "metadata": {},
     "output_type": "execute_result"
    }
   ],
   "source": [
    "import os\n",
    "os.chdir(\"..\")\n",
    "%pwd"
   ]
  },
  {
   "cell_type": "code",
   "execution_count": 2,
   "metadata": {},
   "outputs": [],
   "source": [
    "from dataclasses import dataclass\n",
    "from pathlib import Path\n",
    "\n",
    "@dataclass\n",
    "class DataIngestionEntity:\n",
    "    root_dir: Path\n",
    "    source_url: str\n",
    "    local_raw_folder: Path\n",
    "    unzip_folder: Path\n"
   ]
  },
  {
   "cell_type": "code",
   "execution_count": 3,
   "metadata": {},
   "outputs": [],
   "source": [
    "from src.constants import *\n",
    "from src.utils.common import CommonUtils\n",
    "from box import ConfigBox\n",
    "from src.custom_exception import CustomException\n",
    "import sys\n",
    "\n",
    "class ConfigurationManager:\n",
    "    def __init__(self, config_path=CONFIG_FILE_PATH, params_path = PARAMS_FILE_PATH):\n",
    "        self.config: ConfigBox = CommonUtils.read_yaml(config_path)\n",
    "        self.params: ConfigBox = CommonUtils.read_yaml(params_path)\n",
    "\n",
    "        CommonUtils.create_directories([self.config.artifacts_root])\n",
    "\n",
    "    def DataIngestionConfiguration(self) -> DataIngestionEntity:\n",
    "        try:\n",
    "            data_ingestion_config = self.config.data_ingestion\n",
    "\n",
    "            CommonUtils.create_directories([data_ingestion_config.root_dir])\n",
    "\n",
    "            return DataIngestionEntity(root_dir=data_ingestion_config.root_dir, source_url=data_ingestion_config.source_url, local_raw_folder=data_ingestion_config.local_raw_folder, unzip_folder=data_ingestion_config.unzip_folder)\n",
    "        except Exception as exp:\n",
    "            raise CustomException(exp, sys)\n",
    "        "
   ]
  },
  {
   "cell_type": "code",
   "execution_count": 14,
   "metadata": {},
   "outputs": [],
   "source": [
    "import urllib.request as request\n",
    "from src.logger import logging\n",
    "import zipfile\n",
    "class DataIngestion:\n",
    "    def __init__(self, config: DataIngestionEntity):\n",
    "        self.config = config\n",
    "\n",
    "    def download_source_file(self)->bool:\n",
    "        is_file_downloaded = False\n",
    "        try:\n",
    "            if not os.path.exists(self.config.local_raw_folder):\n",
    "                filename, header = request.urlretrieve(\n",
    "                    url=self.config.source_url, \n",
    "                    filename=self.config.local_raw_folder\n",
    "                )\n",
    "                logging.info(\"Source file downloaded into the system.\")\n",
    "                is_file_downloaded = True\n",
    "            else:\n",
    "                logging.info(\"Source File Already present in the system.\")\n",
    "            return is_file_downloaded\n",
    "        except Exception as exp:\n",
    "            raise CustomException(exp, sys)\n",
    "        \n",
    "    def unzip_source_file(self):\n",
    "        try:\n",
    "            os.makedirs(self.config.unzip_folder, exist_ok=True)\n",
    "            with zipfile.ZipFile(self.config.local_raw_folder, 'r') as zip_file:\n",
    "                zip_file.extractall(self.config.unzip_folder)\n",
    "            logging.info(\"Extracted all files into the system.\")\n",
    "        except Exception as exp:\n",
    "            raise CustomException(exp, sys)\n"
   ]
  },
  {
   "cell_type": "code",
   "execution_count": 16,
   "metadata": {},
   "outputs": [],
   "source": [
    "try:\n",
    "    config_manager_obj = ConfigurationManager()\n",
    "    data_ingestion_config: DataIngestionEntity = config_manager_obj.DataIngestionConfiguration()\n",
    "    data_ingestion_obj = DataIngestion(data_ingestion_config)\n",
    "    is_file_download = data_ingestion_obj.download_source_file()\n",
    "    if is_file_download: data_ingestion_obj.unzip_source_file()\n",
    "except Exception as exp:\n",
    "            raise CustomException(exp, sys)"
   ]
  },
  {
   "cell_type": "code",
   "execution_count": null,
   "metadata": {},
   "outputs": [],
   "source": []
  }
 ],
 "metadata": {
  "kernelspec": {
   "display_name": "env",
   "language": "python",
   "name": "python3"
  },
  "language_info": {
   "codemirror_mode": {
    "name": "ipython",
    "version": 3
   },
   "file_extension": ".py",
   "mimetype": "text/x-python",
   "name": "python",
   "nbconvert_exporter": "python",
   "pygments_lexer": "ipython3",
   "version": "3.11.1"
  }
 },
 "nbformat": 4,
 "nbformat_minor": 2
}
