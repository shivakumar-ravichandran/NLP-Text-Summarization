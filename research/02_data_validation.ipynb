{
 "cells": [
  {
   "cell_type": "code",
   "execution_count": 1,
   "metadata": {},
   "outputs": [
    {
     "data": {
      "text/plain": [
       "'c:\\\\ML\\\\NLP-Text-Summarization'"
      ]
     },
     "execution_count": 1,
     "metadata": {},
     "output_type": "execute_result"
    }
   ],
   "source": [
    "import os\n",
    "os.chdir(\"..\")\n",
    "%pwd"
   ]
  },
  {
   "cell_type": "code",
   "execution_count": 2,
   "metadata": {},
   "outputs": [],
   "source": [
    "from dataclasses import dataclass\n",
    "from pathlib import Path\n",
    "@dataclass\n",
    "class DataValidationEntity:\n",
    "    root_dir: Path\n",
    "    status_file: Path\n",
    "    required_folders: list"
   ]
  },
  {
   "cell_type": "code",
   "execution_count": 3,
   "metadata": {},
   "outputs": [],
   "source": [
    "from src.constants import *\n",
    "from src.utils.common import CommonUtils\n",
    "from box import ConfigBox\n",
    "from src.custom_exception import CustomException\n",
    "import sys\n",
    "class ConfigurationManager:\n",
    "    def __init__(self, config_path=CONFIG_FILE_PATH, params_path = PARAMS_FILE_PATH):\n",
    "        self.config: ConfigBox = CommonUtils.read_yaml(config_path)\n",
    "        self.params: ConfigBox = CommonUtils.read_yaml(params_path)\n",
    "\n",
    "        CommonUtils.create_directories([self.config.artifacts_root])\n",
    "\n",
    "    def data_validation_configuration(self) -> DataValidationEntity:\n",
    "        try:\n",
    "            config = self.config.data_validation\n",
    "            CommonUtils.create_directories([config.root_dir])\n",
    "            return DataValidationEntity(\n",
    "                root_dir=config.root_dir,\n",
    "                status_file=config.status_file,\n",
    "                required_folders=config.required_folders\n",
    "            )\n",
    "        except Exception as exp:\n",
    "            raise CustomException(exp, sys)"
   ]
  },
  {
   "cell_type": "code",
   "execution_count": 6,
   "metadata": {},
   "outputs": [],
   "source": [
    "class DataValiadtion:\n",
    "    def __init__(self, config: DataValidationEntity):\n",
    "        self.config = config\n",
    "\n",
    "    \n",
    "    def validate_all_files_exist(self)-> bool:\n",
    "        try:\n",
    "            validation_status = None\n",
    "\n",
    "            all_files = os.listdir(os.path.join(\"artifacts\",\"data_ingestion\",\"samsum_dataset\"))\n",
    "\n",
    "            for file in all_files:\n",
    "                if file not in self.config.required_folders:\n",
    "                    validation_status = False\n",
    "                    with open(self.config.status_file, 'w') as f:\n",
    "                        f.write(f\"Validation status: {validation_status}\")\n",
    "                else:\n",
    "                    validation_status = True\n",
    "                    with open(self.config.status_file, 'w') as f:\n",
    "                        f.write(f\"Validation status: {validation_status}\")\n",
    "\n",
    "            return validation_status\n",
    "        \n",
    "        except Exception as exp:\n",
    "            raise CustomException(exp, sys)"
   ]
  },
  {
   "cell_type": "code",
   "execution_count": 7,
   "metadata": {},
   "outputs": [],
   "source": [
    "try:\n",
    "    config_manager_obj = ConfigurationManager()\n",
    "    data_validation_config = config_manager_obj.data_validation_configuration()\n",
    "    data_validation_obj = DataValiadtion(data_validation_config)\n",
    "    data_validation_obj.validate_all_files_exist()\n",
    "except Exception as exp:\n",
    "    raise CustomException(exp, sys)"
   ]
  },
  {
   "cell_type": "code",
   "execution_count": null,
   "metadata": {},
   "outputs": [],
   "source": []
  }
 ],
 "metadata": {
  "kernelspec": {
   "display_name": "env",
   "language": "python",
   "name": "python3"
  },
  "language_info": {
   "codemirror_mode": {
    "name": "ipython",
    "version": 3
   },
   "file_extension": ".py",
   "mimetype": "text/x-python",
   "name": "python",
   "nbconvert_exporter": "python",
   "pygments_lexer": "ipython3",
   "version": "3.11.1"
  }
 },
 "nbformat": 4,
 "nbformat_minor": 2
}
