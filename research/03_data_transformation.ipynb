{
 "cells": [
  {
   "cell_type": "code",
   "execution_count": 1,
   "metadata": {},
   "outputs": [
    {
     "data": {
      "text/plain": [
       "'c:\\\\ML\\\\NLP-Text-Summarization'"
      ]
     },
     "execution_count": 1,
     "metadata": {},
     "output_type": "execute_result"
    }
   ],
   "source": [
    "import os\n",
    "os.chdir(\"..\")\n",
    "%pwd"
   ]
  },
  {
   "cell_type": "code",
   "execution_count": 2,
   "metadata": {},
   "outputs": [],
   "source": [
    "from dataclasses import dataclass\n",
    "from pathlib import Path\n",
    "\n",
    "@dataclass\n",
    "class DataTransformationEntity:\n",
    "    root_dir: Path\n",
    "    data_path: Path\n",
    "    tokenizer_name: str"
   ]
  },
  {
   "cell_type": "code",
   "execution_count": 3,
   "metadata": {},
   "outputs": [],
   "source": [
    "from src.constants import *\n",
    "from src.utils.common import CommonUtils\n",
    "from box import ConfigBox\n",
    "from src.custom_exception import CustomException\n",
    "import sys\n",
    "class ConfigurationManager:\n",
    "    def __init__(self, config_path=CONFIG_FILE_PATH, params_path = PARAMS_FILE_PATH):\n",
    "        self.config: ConfigBox = CommonUtils.read_yaml(config_path)\n",
    "        self.params: ConfigBox = CommonUtils.read_yaml(params_path)\n",
    "\n",
    "        CommonUtils.create_directories([self.config.artifacts_root])\n",
    "\n",
    "    def data_transformation_configuration(self)-> DataTransformationEntity:\n",
    "        try:\n",
    "            config = self.config.data_transformation\n",
    "            CommonUtils.create_directories([config.root_dir])\n",
    "            return DataTransformationEntity(\n",
    "                root_dir=config.root_dir,\n",
    "                data_path=config.data_path,\n",
    "                tokenizer_name=config.tokenizer_name\n",
    "            )\n",
    "        except Exception as exp:\n",
    "            raise CustomException(exp, sys)"
   ]
  },
  {
   "cell_type": "code",
   "execution_count": 6,
   "metadata": {},
   "outputs": [],
   "source": [
    "from transformers import AutoTokenizer\n",
    "from datasets import load_from_disk"
   ]
  },
  {
   "cell_type": "code",
   "execution_count": 9,
   "metadata": {},
   "outputs": [],
   "source": [
    "\n",
    "class DataTransformation:\n",
    "    def __init__(self, config: DataTransformationEntity):\n",
    "        self.config = config\n",
    "        self.tokenizer = AutoTokenizer.from_pretrained(config.tokenizer_name)\n",
    "\n",
    "\n",
    "    def convert_examples_to_features(self, example_batch):\n",
    "        try:\n",
    "            input_encoding = self.tokenizer(example_batch['dialogue'], max_length=1024, truncation=True)\n",
    "\n",
    "            with self.tokenizer.as_target_tokenizer():\n",
    "                target_encoding = self.tokenizer(example_batch['summary'], max_length=128,  truncation=True)\n",
    "\n",
    "            return{\n",
    "                'input_ids': input_encoding['input_ids'],\n",
    "                'attention_mask': input_encoding['attention_mask'],\n",
    "                'labels': target_encoding['input_ids']\n",
    "            }\n",
    "        except Exception as exp:\n",
    "            raise CustomException(exp, sys)\n",
    "        \n",
    "    def convert(self):\n",
    "        samsum_dataset = load_from_disk(self.config.data_path)\n",
    "        samsum_dataset_pt = samsum_dataset.map(self.convert_examples_to_features, batched=True)\n",
    "        samsum_dataset_pt.save_to_disk(os.path.join(self.config.root_dir, \"samsum_dataset\"))"
   ]
  },
  {
   "cell_type": "code",
   "execution_count": 10,
   "metadata": {},
   "outputs": [
    {
     "name": "stderr",
     "output_type": "stream",
     "text": [
      "c:\\ML\\NLP-Text-Summarization\\env\\Lib\\site-packages\\huggingface_hub\\file_download.py:139: UserWarning: `huggingface_hub` cache-system uses symlinks by default to efficiently store duplicated files but your machine does not support them in C:\\Users\\KF911AB\\.cache\\huggingface\\hub\\models--google--pegasus-cnn_dailymail. Caching files will still work but in a degraded version that might require more space on your disk. This warning can be disabled by setting the `HF_HUB_DISABLE_SYMLINKS_WARNING` environment variable. For more details, see https://huggingface.co/docs/huggingface_hub/how-to-cache#limitations.\n",
      "To support symlinks on Windows, you either need to activate Developer Mode or to run Python as an administrator. In order to activate developer mode, see this article: https://docs.microsoft.com/en-us/windows/apps/get-started/enable-your-device-for-development\n",
      "  warnings.warn(message)\n",
      "Map:   0%|          | 0/14732 [00:00<?, ? examples/s]c:\\ML\\NLP-Text-Summarization\\env\\Lib\\site-packages\\transformers\\tokenization_utils_base.py:4114: UserWarning: `as_target_tokenizer` is deprecated and will be removed in v5 of Transformers. You can tokenize your labels by using the argument `text_target` of the regular `__call__` method (either in the same call as your input texts if you use the same keyword arguments, or in a separate call.\n",
      "  warnings.warn(\n",
      "Map: 100%|██████████| 14732/14732 [00:04<00:00, 3071.21 examples/s]\n",
      "Map: 100%|██████████| 819/819 [00:00<00:00, 2308.45 examples/s]\n",
      "Map: 100%|██████████| 818/818 [00:00<00:00, 2018.66 examples/s]\n",
      "Saving the dataset (1/1 shards): 100%|██████████| 14732/14732 [00:00<00:00, 442469.95 examples/s]\n",
      "Saving the dataset (1/1 shards): 100%|██████████| 819/819 [00:00<00:00, 116980.59 examples/s]\n",
      "Saving the dataset (1/1 shards): 100%|██████████| 818/818 [00:00<00:00, 136143.04 examples/s]\n"
     ]
    }
   ],
   "source": [
    "try:\n",
    "    config_manager_obj = ConfigurationManager()\n",
    "    data_transformation_conf: DataTransformationEntity = config_manager_obj.data_transformation_configuration()\n",
    "    data_transformation_obj = DataTransformation(data_transformation_conf)\n",
    "    data_transformation_obj.convert()\n",
    "except Exception as exp:\n",
    "            raise CustomException(exp, sys)"
   ]
  },
  {
   "cell_type": "code",
   "execution_count": null,
   "metadata": {},
   "outputs": [],
   "source": []
  }
 ],
 "metadata": {
  "kernelspec": {
   "display_name": "env",
   "language": "python",
   "name": "python3"
  },
  "language_info": {
   "codemirror_mode": {
    "name": "ipython",
    "version": 3
   },
   "file_extension": ".py",
   "mimetype": "text/x-python",
   "name": "python",
   "nbconvert_exporter": "python",
   "pygments_lexer": "ipython3",
   "version": "3.11.1"
  }
 },
 "nbformat": 4,
 "nbformat_minor": 2
}
